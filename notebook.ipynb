{
 "cells": [
  {
   "cell_type": "code",
   "execution_count": 1,
   "metadata": {},
   "outputs": [
    {
     "name": "stdout",
     "output_type": "stream",
     "text": [
      "zsh:1: no matches found: bitdotio[psycopg2]\n"
     ]
    }
   ],
   "source": [
    "%pip install bitdotio[psycopg2]"
   ]
  },
  {
   "cell_type": "code",
   "execution_count": 2,
   "metadata": {},
   "outputs": [
    {
     "ename": "ModuleNotFoundError",
     "evalue": "No module named 'bitdotio'",
     "output_type": "error",
     "traceback": [
      "\u001b[0;31m---------------------------------------------------------------------------\u001b[0m",
      "\u001b[0;31mModuleNotFoundError\u001b[0m                       Traceback (most recent call last)",
      "Input \u001b[0;32mIn [2]\u001b[0m, in \u001b[0;36m<cell line: 2>\u001b[0;34m()\u001b[0m\n\u001b[1;32m      1\u001b[0m \u001b[38;5;66;03m# Need help? Reach out to support@bit.io!\u001b[39;00m\n\u001b[0;32m----> 2\u001b[0m \u001b[38;5;28;01mimport\u001b[39;00m \u001b[38;5;21;01mbitdotio\u001b[39;00m\n\u001b[1;32m      4\u001b[0m \u001b[38;5;66;03m# Check out https://github.com/bitdotioinc/python-bitdotio for more examples and documentation\u001b[39;00m\n\u001b[1;32m      5\u001b[0m client \u001b[38;5;241m=\u001b[39m bitdotio\u001b[38;5;241m.\u001b[39mbitdotio(\u001b[38;5;124m\"\u001b[39m\u001b[38;5;124mv2_3v4A2_ED9yNYPyDFwA24gr6w3qcup\u001b[39m\u001b[38;5;124m\"\u001b[39m)\n",
      "\u001b[0;31mModuleNotFoundError\u001b[0m: No module named 'bitdotio'"
     ]
    }
   ],
   "source": [
    "# Need help? Reach out to support@bit.io!\n",
    "import bitdotio\n",
    "\n",
    "# Check out https://github.com/bitdotioinc/python-bitdotio for more examples and documentation\n",
    "client = bitdotio.bitdotio(\"v2_3v4A2_ED9yNYPyDFwA24gr6w3qcup\")\n"
   ]
  },
  {
   "cell_type": "code",
   "execution_count": null,
   "metadata": {},
   "outputs": [],
   "source": [
    "\n"
   ]
  }
 ],
 "metadata": {
  "kernelspec": {
   "display_name": "Python 3.9.12 ('py4ds')",
   "language": "python",
   "name": "python3"
  },
  "language_info": {
   "codemirror_mode": {
    "name": "ipython",
    "version": 3
   },
   "file_extension": ".py",
   "mimetype": "text/x-python",
   "name": "python",
   "nbconvert_exporter": "python",
   "pygments_lexer": "ipython3",
   "version": "3.9.12"
  },
  "vscode": {
   "interpreter": {
    "hash": "befcf506a876d6362e0cd34de79eb86eebfa7d4d21bfcef4da92e76fa5813bee"
   }
  }
 },
 "nbformat": 4,
 "nbformat_minor": 4
}
